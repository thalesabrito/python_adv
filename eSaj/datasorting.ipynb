{
 "cells": [
  {
   "cell_type": "code",
   "execution_count": 1,
   "id": "c8fcca54-0cac-4a1a-ba96-837a59768e01",
   "metadata": {},
   "outputs": [],
   "source": [
    "from selenium import webdriver\n",
    "from selenium.webdriver.common.by import By\n",
    "from selenium.webdriver.common.keys import Keys\n",
    "from selenium.webdriver.support.ui import WebDriverWait\n",
    "from selenium.webdriver.support.select import Select\n",
    "import numpy as np\n",
    "import pandas as pd\n",
    "import time\n",
    "\n",
    "csv = pd.read_csv('/Users/thalesbrito/python/eSaj/processos esaj.csv', sep=';')"
   ]
  },
  {
   "cell_type": "code",
   "execution_count": 2,
   "id": "29f3c630-1e71-4067-8482-79e91dbfa165",
   "metadata": {},
   "outputs": [
    {
     "data": {
      "text/html": [
       "<div>\n",
       "<style scoped>\n",
       "    .dataframe tbody tr th:only-of-type {\n",
       "        vertical-align: middle;\n",
       "    }\n",
       "\n",
       "    .dataframe tbody tr th {\n",
       "        vertical-align: top;\n",
       "    }\n",
       "\n",
       "    .dataframe thead th {\n",
       "        text-align: right;\n",
       "    }\n",
       "</style>\n",
       "<table border=\"1\" class=\"dataframe\">\n",
       "  <thead>\n",
       "    <tr style=\"text-align: right;\">\n",
       "      <th></th>\n",
       "      <th>num_processo</th>\n",
       "      <th>foro</th>\n",
       "      <th>Vara</th>\n",
       "      <th>data_ult_mov</th>\n",
       "      <th>ult_mov</th>\n",
       "    </tr>\n",
       "  </thead>\n",
       "  <tbody>\n",
       "    <tr>\n",
       "      <th>0</th>\n",
       "      <td>0745168-42.2000.8.06.0001</td>\n",
       "      <td>Fortaleza - Fórum Clóvis Beviláqua</td>\n",
       "      <td>2ª Vara Cível (SEJUD 1º Grau)</td>\n",
       "      <td>08/10/2021</td>\n",
       "      <td>Proferido despacho de mero expediente</td>\n",
       "    </tr>\n",
       "    <tr>\n",
       "      <th>1</th>\n",
       "      <td>Intime-se a parte promovente para, no prazo de...</td>\n",
       "      <td>NaN</td>\n",
       "      <td>NaN</td>\n",
       "      <td>NaN</td>\n",
       "      <td>NaN</td>\n",
       "    </tr>\n",
       "    <tr>\n",
       "      <th>2</th>\n",
       "      <td>0438308-98.2000.8.06.0001</td>\n",
       "      <td>Fortaleza - Fórum Clóvis Beviláqua</td>\n",
       "      <td>2ª Vara Cível (SEJUD 1º Grau)</td>\n",
       "      <td>10/05/2021</td>\n",
       "      <td>Concluso para Despacho</td>\n",
       "    </tr>\n",
       "    <tr>\n",
       "      <th>3</th>\n",
       "      <td>0000619-38.2000.8.06.0146</td>\n",
       "      <td>Pindoretama</td>\n",
       "      <td>Vara Única da Comarca de Pindoretama</td>\n",
       "      <td>20/08/2021</td>\n",
       "      <td>Proferido despacho de mero expediente</td>\n",
       "    </tr>\n",
       "    <tr>\n",
       "      <th>4</th>\n",
       "      <td>Citem-se os espólios de Antonio Sales Magalhãe...</td>\n",
       "      <td>NaN</td>\n",
       "      <td>NaN</td>\n",
       "      <td>NaN</td>\n",
       "      <td>NaN</td>\n",
       "    </tr>\n",
       "  </tbody>\n",
       "</table>\n",
       "</div>"
      ],
      "text/plain": [
       "                                        num_processo  \\\n",
       "0                          0745168-42.2000.8.06.0001   \n",
       "1  Intime-se a parte promovente para, no prazo de...   \n",
       "2                          0438308-98.2000.8.06.0001   \n",
       "3                          0000619-38.2000.8.06.0146   \n",
       "4  Citem-se os espólios de Antonio Sales Magalhãe...   \n",
       "\n",
       "                                 foro                                  Vara  \\\n",
       "0  Fortaleza - Fórum Clóvis Beviláqua         2ª Vara Cível (SEJUD 1º Grau)   \n",
       "1                                 NaN                                   NaN   \n",
       "2  Fortaleza - Fórum Clóvis Beviláqua         2ª Vara Cível (SEJUD 1º Grau)   \n",
       "3                         Pindoretama  Vara Única da Comarca de Pindoretama   \n",
       "4                                 NaN                                   NaN   \n",
       "\n",
       "   data_ult_mov                               ult_mov   \n",
       "0    08/10/2021  Proferido despacho de mero expediente  \n",
       "1           NaN                                    NaN  \n",
       "2    10/05/2021                 Concluso para Despacho  \n",
       "3    20/08/2021  Proferido despacho de mero expediente  \n",
       "4           NaN                                    NaN  "
      ]
     },
     "execution_count": 2,
     "metadata": {},
     "output_type": "execute_result"
    }
   ],
   "source": [
    "csv.head()"
   ]
  },
  {
   "cell_type": "code",
   "execution_count": 3,
   "id": "cdf1e648-864a-4488-85cd-5090c7ab200e",
   "metadata": {},
   "outputs": [],
   "source": [
    "data_ok = csv.dropna()"
   ]
  },
  {
   "cell_type": "code",
   "execution_count": 4,
   "id": "ebbd3bb7-b40b-4a57-b707-2929ddb89065",
   "metadata": {},
   "outputs": [
    {
     "name": "stdout",
     "output_type": "stream",
     "text": [
      "<class 'pandas.core.frame.DataFrame'>\n",
      "Int64Index: 6 entries, 0 to 7\n",
      "Data columns (total 5 columns):\n",
      " #   Column         Non-Null Count  Dtype \n",
      "---  ------         --------------  ----- \n",
      " 0   num_processo   6 non-null      object\n",
      " 1    foro          6 non-null      object\n",
      " 2    Vara          6 non-null      object\n",
      " 3    data_ult_mov  6 non-null      object\n",
      " 4    ult_mov       6 non-null      object\n",
      "dtypes: object(5)\n",
      "memory usage: 288.0+ bytes\n"
     ]
    }
   ],
   "source": [
    "data_ok.info()"
   ]
  },
  {
   "cell_type": "code",
   "execution_count": 5,
   "id": "de85219a-6713-4cb2-a934-5b2007f11b59",
   "metadata": {},
   "outputs": [],
   "source": [
    "data_ok.to_csv(\"processos_esaj_ok.csv\", sep=';',encoding='utf-8-sig', index=False)"
   ]
  },
  {
   "cell_type": "code",
   "execution_count": null,
   "id": "c93a9cdb-1de9-4a57-a5be-636d24679ce6",
   "metadata": {},
   "outputs": [],
   "source": []
  },
  {
   "cell_type": "code",
   "execution_count": null,
   "id": "e2f50957-fca2-495b-bc9b-f69cede12db1",
   "metadata": {},
   "outputs": [],
   "source": []
  }
 ],
 "metadata": {
  "kernelspec": {
   "display_name": "Python 3",
   "language": "python",
   "name": "python3"
  },
  "language_info": {
   "codemirror_mode": {
    "name": "ipython",
    "version": 3
   },
   "file_extension": ".py",
   "mimetype": "text/x-python",
   "name": "python",
   "nbconvert_exporter": "python",
   "pygments_lexer": "ipython3",
   "version": "3.8.8"
  }
 },
 "nbformat": 4,
 "nbformat_minor": 5
}
