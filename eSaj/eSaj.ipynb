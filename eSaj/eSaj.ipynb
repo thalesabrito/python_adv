{
 "cells": [
  {
   "cell_type": "code",
   "execution_count": 1,
   "id": "c6e8d12f-d34a-4719-a790-9f3667cbe921",
   "metadata": {},
   "outputs": [],
   "source": [
    "from selenium import webdriver\n",
    "from selenium.webdriver.common.by import By\n",
    "from selenium.webdriver.common.keys import Keys\n",
    "from selenium.webdriver.support.ui import WebDriverWait\n",
    "from selenium.webdriver.support.select import Select\n",
    "import numpy as np\n",
    "import pandas as pd\n",
    "import time\n",
    "\n",
    "proc = pd.read_excel('/Users/thalesbrito/python/eSaj/processos.xlsx')\n"
   ]
  },
  {
   "cell_type": "code",
   "execution_count": 2,
   "id": "3e7cea0d-0715-45a7-9249-6db10a69d1f9",
   "metadata": {},
   "outputs": [
    {
     "data": {
      "text/html": [
       "<div>\n",
       "<style scoped>\n",
       "    .dataframe tbody tr th:only-of-type {\n",
       "        vertical-align: middle;\n",
       "    }\n",
       "\n",
       "    .dataframe tbody tr th {\n",
       "        vertical-align: top;\n",
       "    }\n",
       "\n",
       "    .dataframe thead th {\n",
       "        text-align: right;\n",
       "    }\n",
       "</style>\n",
       "<table border=\"1\" class=\"dataframe\">\n",
       "  <thead>\n",
       "    <tr style=\"text-align: right;\">\n",
       "      <th></th>\n",
       "      <th>processo</th>\n",
       "    </tr>\n",
       "  </thead>\n",
       "  <tbody>\n",
       "    <tr>\n",
       "      <th>0</th>\n",
       "      <td>0745168-42.2000.8.06.0001</td>\n",
       "    </tr>\n",
       "    <tr>\n",
       "      <th>1</th>\n",
       "      <td>0438308-98.2000.8.06.0001</td>\n",
       "    </tr>\n",
       "    <tr>\n",
       "      <th>2</th>\n",
       "      <td>0000619-38.2000.8.06.0146</td>\n",
       "    </tr>\n",
       "    <tr>\n",
       "      <th>3</th>\n",
       "      <td>0118770-43.2019.8.06.0001</td>\n",
       "    </tr>\n",
       "    <tr>\n",
       "      <th>4</th>\n",
       "      <td>0236950-81.2020.8.06.0001</td>\n",
       "    </tr>\n",
       "  </tbody>\n",
       "</table>\n",
       "</div>"
      ],
      "text/plain": [
       "                    processo\n",
       "0  0745168-42.2000.8.06.0001\n",
       "1  0438308-98.2000.8.06.0001\n",
       "2  0000619-38.2000.8.06.0146\n",
       "3  0118770-43.2019.8.06.0001\n",
       "4  0236950-81.2020.8.06.0001"
      ]
     },
     "execution_count": 2,
     "metadata": {},
     "output_type": "execute_result"
    }
   ],
   "source": [
    "proc.head()"
   ]
  },
  {
   "cell_type": "code",
   "execution_count": 3,
   "id": "0e831a6d-9430-4d2b-8a4a-8f30b853f9c3",
   "metadata": {},
   "outputs": [],
   "source": [
    "proc['num_proc'] = proc['processo'].str[:15]"
   ]
  },
  {
   "cell_type": "code",
   "execution_count": 4,
   "id": "d6c3950a-3a7e-4534-b151-76142c4b0d4b",
   "metadata": {},
   "outputs": [],
   "source": [
    "proc['num_proc1'] = proc['processo'].str[21:]"
   ]
  },
  {
   "cell_type": "code",
   "execution_count": 5,
   "id": "5f177509-6ec8-474a-85e3-26e3e105711c",
   "metadata": {
    "tags": []
   },
   "outputs": [],
   "source": [
    "proc['index'] = proc.index"
   ]
  },
  {
   "cell_type": "code",
   "execution_count": 6,
   "id": "1ef257d0-3b81-409f-9292-611252723b8d",
   "metadata": {},
   "outputs": [
    {
     "data": {
      "text/html": [
       "<div>\n",
       "<style scoped>\n",
       "    .dataframe tbody tr th:only-of-type {\n",
       "        vertical-align: middle;\n",
       "    }\n",
       "\n",
       "    .dataframe tbody tr th {\n",
       "        vertical-align: top;\n",
       "    }\n",
       "\n",
       "    .dataframe thead th {\n",
       "        text-align: right;\n",
       "    }\n",
       "</style>\n",
       "<table border=\"1\" class=\"dataframe\">\n",
       "  <thead>\n",
       "    <tr style=\"text-align: right;\">\n",
       "      <th></th>\n",
       "      <th>processo</th>\n",
       "      <th>num_proc</th>\n",
       "      <th>num_proc1</th>\n",
       "      <th>index</th>\n",
       "    </tr>\n",
       "  </thead>\n",
       "  <tbody>\n",
       "    <tr>\n",
       "      <th>0</th>\n",
       "      <td>0745168-42.2000.8.06.0001</td>\n",
       "      <td>0745168-42.2000</td>\n",
       "      <td>0001</td>\n",
       "      <td>0</td>\n",
       "    </tr>\n",
       "    <tr>\n",
       "      <th>1</th>\n",
       "      <td>0438308-98.2000.8.06.0001</td>\n",
       "      <td>0438308-98.2000</td>\n",
       "      <td>0001</td>\n",
       "      <td>1</td>\n",
       "    </tr>\n",
       "    <tr>\n",
       "      <th>2</th>\n",
       "      <td>0000619-38.2000.8.06.0146</td>\n",
       "      <td>0000619-38.2000</td>\n",
       "      <td>0146</td>\n",
       "      <td>2</td>\n",
       "    </tr>\n",
       "    <tr>\n",
       "      <th>3</th>\n",
       "      <td>0118770-43.2019.8.06.0001</td>\n",
       "      <td>0118770-43.2019</td>\n",
       "      <td>0001</td>\n",
       "      <td>3</td>\n",
       "    </tr>\n",
       "    <tr>\n",
       "      <th>4</th>\n",
       "      <td>0236950-81.2020.8.06.0001</td>\n",
       "      <td>0236950-81.2020</td>\n",
       "      <td>0001</td>\n",
       "      <td>4</td>\n",
       "    </tr>\n",
       "  </tbody>\n",
       "</table>\n",
       "</div>"
      ],
      "text/plain": [
       "                    processo         num_proc num_proc1  index\n",
       "0  0745168-42.2000.8.06.0001  0745168-42.2000      0001      0\n",
       "1  0438308-98.2000.8.06.0001  0438308-98.2000      0001      1\n",
       "2  0000619-38.2000.8.06.0146  0000619-38.2000      0146      2\n",
       "3  0118770-43.2019.8.06.0001  0118770-43.2019      0001      3\n",
       "4  0236950-81.2020.8.06.0001  0236950-81.2020      0001      4"
      ]
     },
     "execution_count": 6,
     "metadata": {},
     "output_type": "execute_result"
    }
   ],
   "source": [
    "proc.head()"
   ]
  },
  {
   "cell_type": "code",
   "execution_count": 8,
   "id": "ac13f862-c7bf-44f9-a01e-eca502c7cc7f",
   "metadata": {
    "tags": []
   },
   "outputs": [],
   "source": [
    "\n",
    "with open('processos esaj.csv', 'w', encoding='utf-8-sig') as file:\n",
    "    file.write(\"Num_processo; Foro; Vara; Assunto; Data Ult Mov; Movimentação \\n\")\n",
    "\n",
    "navegador = webdriver.Chrome()\n",
    "\n",
    "navegador.get('https://esaj.tjce.jus.br/cpopg/open.do')\n",
    "navegador.set_window_size(1280, 800)\n",
    "\n",
    "for k in range(len(proc)):\n",
    "    row = proc.loc[proc['index'] == k]\n",
    "    navegador.find_element_by_xpath('//*[@id=\"numeroDigitoAnoUnificado\"]').click()\n",
    "    time.sleep(1)\n",
    "    navegador.find_element_by_xpath('//*[@id=\"numeroDigitoAnoUnificado\"]').send_keys(\" \".join(row['num_proc']))\n",
    "    time.sleep(1)\n",
    "    navegador.find_element_by_xpath('//*[@id=\"foroNumeroUnificado\"]').send_keys(\" \".join(row['num_proc1']))\n",
    "    time.sleep(1)\n",
    "    navegador.find_element_by_xpath('//*[@id=\"botaoConsultarProcessos\"]').click()\n",
    "    num_proc=navegador.find_elements_by_xpath('//*[@id=\"numeroProcesso\"]')\n",
    "    foro=navegador.find_elements_by_xpath('//*[@id=\"foroProcesso\"]')\n",
    "    vara=navegador.find_elements_by_xpath('//*[@id=\"varaProcesso\"]')\n",
    "    assunto=navegador.find_elements_by_xpath('//*[@id=\"assuntoProcesso\"]')\n",
    "    #nome_participante=navegador.find_elements_by_xpath('//*[@id=\"tablePartesPrincipais\"]/tbody/tr[1]/td[2]')\n",
    "    #tipo_participacao1=navegador.find_elements_by_xpath('//*[@id=\"tablePartesPrincipais\"]/tbody/tr[2]/td[1]/span')\n",
    "    #nome_participante1=navegador.find_elements_by_xpath('//*[@id=\"tablePartesPrincipais\"]/tbody/tr[2]/td[2]')\n",
    "    data_ult_mov=navegador.find_elements_by_xpath('//*[@id=\"tabelaUltimasMovimentacoes\"]/tr[1]/td[1]')\n",
    "    ult_mov=navegador.find_elements_by_xpath('//*[@id=\"tabelaUltimasMovimentacoes\"]/tr[1]/td[3]')\n",
    "    \n",
    "    #print(k)\n",
    "    #print(num_proc[0].text)\n",
    "    #print(foro[0].text)\n",
    "    #print(vara[0].text)\n",
    "    #print(tipo_participacao[0].text)\n",
    "    #print(nome_participante[0].text)\n",
    "    #print(tipo_participacao1[0].text)\n",
    "    #print(nome_participante1[0].text)\n",
    "    #print(data_ult_mov[0].text)\n",
    "    #print(ult_mov[0].text)\n",
    "\n",
    "    with open('processos esaj.csv', 'a') as file:\n",
    "        ##for i in range(len(num_proc)-1):\n",
    "        file.write(num_proc[0].text + \";\" + foro[0].text + \";\" + vara[0].text + \";\" + assunto[0].text + \";\" +\n",
    "            data_ult_mov[0].text + \";\" + ult_mov[0].text + \"\\n\")\n",
    "\n",
    "    time.sleep(2)\n",
    "        \n",
    "    next=navegador.find_element_by_xpath('//*[@id=\"setaVoltar\"]')\n",
    "    time.sleep(1)\n",
    "    next.click()\n",
    "        \n",
    "    file.close()\n",
    "    \n",
    "    csv = pd.read_csv('/Users/thalesbrito/python/eSaj/processos esaj.csv', sep=';')\n",
    "    data_ok = csv.dropna()\n",
    "    data_ok.to_csv(\"processos_esaj_ok.csv\", sep=';',encoding='utf-8-sig', index=False)\n",
    "       \n",
    "navegador.close()\n",
    "\n"
   ]
  },
  {
   "cell_type": "code",
   "execution_count": null,
   "id": "19e17ffd-da70-43e3-93e5-bee72267dead",
   "metadata": {},
   "outputs": [],
   "source": []
  }
 ],
 "metadata": {
  "kernelspec": {
   "display_name": "Python 3",
   "language": "python",
   "name": "python3"
  },
  "language_info": {
   "codemirror_mode": {
    "name": "ipython",
    "version": 3
   },
   "file_extension": ".py",
   "mimetype": "text/x-python",
   "name": "python",
   "nbconvert_exporter": "python",
   "pygments_lexer": "ipython3",
   "version": "3.8.8"
  }
 },
 "nbformat": 4,
 "nbformat_minor": 5
}
